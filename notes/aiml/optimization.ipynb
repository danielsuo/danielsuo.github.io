{
 "cells": [
  {
   "cell_type": "markdown",
   "metadata": {},
   "source": [
    "# Optimization\n",
    "\n",
    "## Lagrange multipliers\n",
    "- [Introduction 1](http://www.slimy.com/~steuard/teaching/tutorials/Lagrange.html)\n",
    "- [Introduction 2](https://people.eecs.berkeley.edu/~klein/papers/lagrange-multipliers.pdf)\n",
    "\n",
    "## KKT conditions\n",
    "## Duality\n",
    "## Simulated annleaing\n",
    "- [Wiki](https://en.wikipedia.org/wiki/Simulated_annealing)"
   ]
  },
  {
   "cell_type": "code",
   "execution_count": null,
   "metadata": {
    "collapsed": true
   },
   "outputs": [],
   "source": []
  }
 ],
 "metadata": {
  "kernelspec": {
   "display_name": "Python 2",
   "language": "python",
   "name": "python2"
  },
  "language_info": {
   "codemirror_mode": {
    "name": "ipython",
    "version": 2
   },
   "file_extension": ".py",
   "mimetype": "text/x-python",
   "name": "python",
   "nbconvert_exporter": "python",
   "pygments_lexer": "ipython2",
   "version": "2.7.13"
  }
 },
 "nbformat": 4,
 "nbformat_minor": 2
}
